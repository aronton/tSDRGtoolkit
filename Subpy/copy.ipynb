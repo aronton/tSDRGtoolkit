{
 "cells": [
  {
   "cell_type": "code",
   "execution_count": null,
   "id": "5fac6f68",
   "metadata": {},
   "outputs": [
    {
     "ename": "",
     "evalue": "",
     "output_type": "error",
     "traceback": [
      "\u001b[1;31mThe kernel failed to start as 'deepcopy' could not be imported from '/ceph/sharedfs/work/NTHU-qubit/LYT/tSDRG_random/Subpy/copy.py'.\n",
      "\u001b[1;31mClick <a href='https://aka.ms/kernelFailuresModuleImportErrFromFile'>here</a> for more info."
     ]
    }
   ],
   "source": [
    "sttt = \"Spin15_L255_Jdis030_Dim000_P10_BC=OBC_chi50_partition=intel-g4-al9_large_seed1=1_seed2=5000_ds=50_task=submit\"\n",
    "s = [\"Spin\", \"_L\", \"_Jdis\", \"_Dim\", \"_P\", \"_BC=\", \"_chi\", \"_partition\", \"_seed1\", \"_seed2\", \"_ds\", \"_task\"]"
   ]
  },
  {
   "cell_type": "code",
   "execution_count": null,
   "id": "913e5a21",
   "metadata": {},
   "outputs": [
    {
     "ename": "",
     "evalue": "",
     "output_type": "error",
     "traceback": [
      "\u001b[1;31mThe kernel failed to start as 'deepcopy' could not be imported from '/ceph/sharedfs/work/NTHU-qubit/LYT/tSDRG_random/Subpy/copy.py'.\n",
      "\u001b[1;31mClick <a href='https://aka.ms/kernelFailuresModuleImportErrFromFile'>here</a> for more info."
     ]
    }
   ],
   "source": [
    "import os\n",
    "import shutil\n",
    "import multiprocessing\n",
    "\n",
    "sttt = \"Spin15_L255_Jdis030_Dim000_P10_BC=OBC_chi50_partition=intel-g4-al9_large_seed1=1_seed2=5000_ds=50_task=submit\"\n",
    "s = [\"Spin\", \"_L\", \"_Jdis\", \"_Dim\", \"_P\", \"_BC=\", \"_chi\", \"_partition\", \"_seed1\", \"_seed2\", \"_ds\", \"_task\"]\n",
    "num = []\n",
    "for i, ss in enumerate(s):\n",
    "    num.append(sttt.find(ss))\n",
    "    print(num[0:i+1])"
   ]
  },
  {
   "cell_type": "code",
   "execution_count": null,
   "id": "b128a995",
   "metadata": {},
   "outputs": [
    {
     "ename": "IndentationError",
     "evalue": "expected an indented block after 'except' statement on line 20 (1176097292.py, line 23)",
     "output_type": "error",
     "traceback": [
      "\u001b[0;36m  Cell \u001b[0;32mIn[3], line 23\u001b[0;36m\u001b[0m\n\u001b[0;31m    def copy_data_random_parallel(arg):\u001b[0m\n\u001b[0m                                       ^\u001b[0m\n\u001b[0;31mIndentationError\u001b[0m\u001b[0;31m:\u001b[0m expected an indented block after 'except' statement on line 20\n"
     ]
    }
   ],
   "source": [
    "import os\n",
    "import shutil\n",
    "import multiprocessing\n",
    "\n",
    "origin_path = \"/ceph/work/NTHU-qubit/LYT/tSDRG_random/tSDRG/Main_15/data_random/PBC\"\n",
    "target_path = \"/ceph/work/NTHU-qubit/LYT/tSDRGtoolkit/tSDRG/Main_15/data_random/PBC\"\n",
    "\n",
    "def copy(arg):\n",
    "    path, _ = arg  # 第二個元素 seed 名其實沒用到\n",
    "    old = os.path.join(origin_path, path)\n",
    "    new = os.path.join(target_path, path)\n",
    "\n",
    "    try:\n",
    "        if not os.listdir(old):  # 判斷資料夾是否為空\n",
    "            print(f\"⚠️ 跳過空資料夾: {old}\")\n",
    "            return\n",
    "        os.makedirs(os.path.dirname(new), exist_ok=True)\n",
    "        shutil.copytree(old, new)\n",
    "        print(f\"✅ {old} -> {new}\")\n",
    "    except Exception as e:\n",
    "        print(f\"❌ 複製失敗: {old} -> {new}\\n原因: {e}\")\n",
    "\n",
    "def copy_data_random_parallel(arg):\n",
    "    J, D, L, chi, P, s1, s2 = arg\n",
    "    print(f\"🔧 正在處理: {J}, {D}, L={L}, chi={chi}, P={P}, seed={s1}~{s2}\")\n",
    "\n",
    "    sArg = [\n",
    "        (os.path.join(J, D, f\"L{L}_P{P}_m{chi}_{seed}\"), f\"{seed}\")\n",
    "        for seed in range(s1, s2 + 1)\n",
    "    ]\n",
    "\n",
    "    with multiprocessing.Pool(processes=20) as pool:\n",
    "        pool.map(copy, sArg)\n",
    "\n",
    "if __name__ == \"__main__\":\n",
    "    Jstr = [f\"Jdis{str(i).zfill(3)}\" for i in range(30,31)]\n",
    "    Dstr = [f\"Dim{str(i).zfill(3)}\" for i in range(1)]\n",
    "    Lnum = [64, 128, 256, 384, 512]\n",
    "    chi = 40\n",
    "    P = 10\n",
    "    s1 = 1\n",
    "    s2 = 10000  # 減少測試數量，實務可設為 10000\n",
    "\n",
    "    args = [(J, D, L, chi, P, s1, s2) for J in Jstr for D in Dstr for L in Lnum]\n",
    "    print(f\"📦 共產生 {len(args)} 組參數\")\n",
    "    \n",
    "    for arg in args:\n",
    "        copy_data_random_parallel(arg)\n",
    "    # for J in Jstr:\n",
    "    #     for D in Dstr:\n",
    "    #         for L in Lstr:\n",
    "    #             arg.append((J, D, L, chi, P, s1, s2))\n",
    "    print(\"✅ 所有複製任務結束\")\n",
    "\n"
   ]
  },
  {
   "cell_type": "code",
   "execution_count": null,
   "id": "67189741",
   "metadata": {},
   "outputs": [],
   "source": []
  }
 ],
 "metadata": {
  "kernelspec": {
   "display_name": "base",
   "language": "python",
   "name": "python3"
  },
  "language_info": {
   "codemirror_mode": {
    "name": "ipython",
    "version": 3
   },
   "file_extension": ".py",
   "mimetype": "text/x-python",
   "name": "python",
   "nbconvert_exporter": "python",
   "pygments_lexer": "ipython3",
   "version": "3.12.2"
  }
 },
 "nbformat": 4,
 "nbformat_minor": 5
}
