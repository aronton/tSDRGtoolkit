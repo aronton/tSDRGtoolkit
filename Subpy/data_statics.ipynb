{
 "cells": [
  {
   "cell_type": "code",
   "execution_count": null,
   "id": "6d2192de",
   "metadata": {},
   "outputs": [
    {
     "ename": "",
     "evalue": "",
     "output_type": "error",
     "traceback": [
      "\u001b[1;31mThe kernel failed to start as 'deepcopy' could not be imported from '/ceph/sharedfs/work/NTHU-qubit/LYT/tSDRG_random/Subpy/copy.py'.\n",
      "\u001b[1;31mClick <a href='https://aka.ms/kernelFailuresModuleImportErrFromFile'>here</a> for more info."
     ]
    }
   ],
   "source": [
    "import os\n",
    "\n",
    "\n",
    "dicosPath = \"/ceph/work/NTHU-qubit/LYT/tSDRG_random\"\n",
    "scopionPath = \"/home/aronton/tSDRG_random\"\n",
    "\n",
    "if os.path.isdir(dicosPath):\n",
    "    tSDRG_path = dicosPath\n",
    "    group_path = dicosPath\n",
    "    \n",
    "if os.path.isdir(scopionPath):\n",
    "    tSDRG_path = scopionPath\n",
    "    group_path = scopionPath\n",
    "    \n",
    "print(tSDRG_path)"
   ]
  },
  {
   "cell_type": "code",
   "execution_count": null,
   "id": "d9dc51dc",
   "metadata": {},
   "outputs": [
    {
     "ename": "",
     "evalue": "",
     "output_type": "error",
     "traceback": [
      "\u001b[1;31mThe kernel failed to start as 'deepcopy' could not be imported from '/ceph/sharedfs/work/NTHU-qubit/LYT/tSDRG_random/Subpy/copy.py'.\n",
      "\u001b[1;31mClick <a href='https://aka.ms/kernelFailuresModuleImportErrFromFile'>here</a> for more info."
     ]
    }
   ],
   "source": [
    "import os\n",
    "\n",
    "\n",
    "J_i, J_f, J_d = 30, 51, 20\n",
    "J_list = [f\"Jdis{str(i).zfill(3)}\" for i in range(J_i, J_f, J_d)]\n",
    "J_num = [int(s.replace('Jdis', '')) / 100.0 for s in J_list]\n",
    "\n",
    "L_i, L_f, L_d = 63, 513, 64\n",
    "L_list = [f\"L{num}\" for num in range(L_i, L_f, L_d)]\n",
    "L_num = [i for i in range(L_i, L_f, L_d)]\n",
    "\n",
    "BC = \"OBC\"\n",
    "P = 10\n",
    "B = 40\n",
    "print(f\"BC: {BC}, Pdis: {P}, Bond: {B}\")\n",
    "for J in J_list:\n",
    "    if not os.path.exists(f\"{tSDRG_path}/tSDRG/Main_15/data_random/{BC}/{J}/Dim000\"):\n",
    "        continue\n",
    "    else:\n",
    "        print(\"R\"+J.replace(\"Jdis\",\"\"))\n",
    "    output = []\n",
    "    for L in [64,128,256,384,512]:\n",
    "        L=L-1\n",
    "        for seed in range(10000,0,-1000):\n",
    "            path = f\"{tSDRG_path}/tSDRG/Main_15/data_random/{BC}/{J}/Dim000/L{L}_P{P}_m{B}_{seed}\"\n",
    "            if os.path.exists(path):\n",
    "                print(\"path:\", path)\n",
    "                break\n",
    "        # print(\"path:\", path)\n",
    "        output.append(f\"(R:{J.replace(\"Jdis\",\"\")}, L{L}) -> {seed}\")\n",
    "\n",
    "    print(\"_\".join(output))\n"
   ]
  },
  {
   "cell_type": "code",
   "execution_count": 6,
   "id": "adaa3d1d",
   "metadata": {},
   "outputs": [
    {
     "name": "stdout",
     "output_type": "stream",
     "text": [
      "BC: OBC, Pdis: 10, Bond: 50\n",
      "R030\n",
      "(R:030, L7) -> 0_(R:030, L15) -> 0_(R:030, L23) -> 0_(R:030, L31) -> 0_(R:030, L47) -> 0_(R:030, L63) -> 0_(R:030, L95) -> 0_(R:030, L127) -> 10000_(R:030, L159) -> 0_(R:030, L191) -> 10000\n"
     ]
    }
   ],
   "source": [
    "import os\n",
    "\n",
    "\n",
    "J_i, J_f, J_d = 30, 51, 20\n",
    "J_list = [f\"Jdis{str(i).zfill(3)}\" for i in range(J_i, J_f, J_d)]\n",
    "J_num = [int(s.replace('Jdis', '')) / 100.0 for s in J_list]\n",
    "\n",
    "L_i, L_f, L_d = 64, 513, 64\n",
    "L_list = [f\"L{num}\" for num in range(L_i, L_f, L_d)]\n",
    "L_num = [i for i in range(L_i, L_f, L_d)]\n",
    "\n",
    "BC = \"OBC\"\n",
    "P = 10\n",
    "B = 50\n",
    "print(f\"BC: {BC}, Pdis: {P}, Bond: {B}\")\n",
    "for J in J_list:\n",
    "    if not os.path.exists(f\"{tSDRG_path}/tSDRG/Main_15/metadata/{BC}/{J}/Dim000/\"):\n",
    "        continue\n",
    "    else:\n",
    "        print(\"R\"+J.replace(\"Jdis\",\"\"))\n",
    "    output = []\n",
    "    for L in [8,16,24,32,48,64,96,128,160,192]:\n",
    "        L = L - 1\n",
    "        name = f\"corr1_dis_L{L}_P{P}_m{B}_{J}_Dim000_dx={L-1}.txt\"\n",
    "        path = f\"{tSDRG_path}/tSDRG/Main_15/metadata/{BC}/{J}/Dim000/L{L}_P{P}_m{B}_dis/{name}\"\n",
    "        # print(path)\n",
    "        try:\n",
    "            with open(path, \"r\") as f:\n",
    "                f = f.readlines()\n",
    "                del f[0]\n",
    "                # print(f)\n",
    "            num = len(f)\n",
    "            output.append(f\"(R:{J.replace(\"Jdis\",\"\")}, L{L}) -> {num}\")\n",
    "        except:\n",
    "            output.append(f\"(R:{J.replace(\"Jdis\",\"\")}, L{L}) -> 0\")\n",
    "    print(\"_\".join(output))"
   ]
  },
  {
   "cell_type": "code",
   "execution_count": 8,
   "id": "1f84d79d",
   "metadata": {},
   "outputs": [
    {
     "name": "stdout",
     "output_type": "stream",
     "text": [
      "BC: OBC, Pdis: 10, Bond: 50\n",
      "R030\n",
      "(R:030, L63) -> 0_(R:030, L127) -> 0_(R:030, L255) -> 0_(R:030, L383) -> 0_(R:030, L511) -> 0\n",
      "R050\n",
      "(R:050, L63) -> 0_(R:050, L127) -> 0_(R:050, L255) -> 0_(R:050, L383) -> 0_(R:050, L511) -> 0\n"
     ]
    }
   ],
   "source": [
    "import os\n",
    "\n",
    "\n",
    "J_i, J_f, J_d = 30, 51, 20\n",
    "J_list = [f\"Jdis{str(i).zfill(3)}\" for i in range(J_i, J_f, J_d)]\n",
    "J_num = [int(s.replace('Jdis', '')) / 100.0 for s in J_list]\n",
    "\n",
    "L_i, L_f, L_d = 64, 513, 64\n",
    "L_list = [f\"L{num}\" for num in range(L_i, L_f, L_d)]\n",
    "L_num = [i for i in range(L_i, L_f, L_d)]\n",
    "\n",
    "BC = \"OBC\"\n",
    "P = 10\n",
    "B = 50\n",
    "print(f\"BC: {BC}, Pdis: {P}, Bond: {B}\")\n",
    "for J in J_list:\n",
    "    if not os.path.exists(f\"{tSDRG_path}/tSDRG/Main_15/data_collect/{BC}/{J}/Dim000/\"):\n",
    "        continue\n",
    "    else:\n",
    "        print(\"R\"+J.replace(\"Jdis\",\"\"))\n",
    "    output = []\n",
    "    for L in [64,128,256,384,512]:\n",
    "        L = L-1\n",
    "        name = f\"corr1_L{L}_P10_m40_{J}_Dim000.txt\"\n",
    "        path = f\"{tSDRG_path}/tSDRG/Main_15/data_collect/{BC}/{J}/Dim000/L{L}_P{P}_m{B}/{name}\"\n",
    "        # print(path)\n",
    "        try:\n",
    "            with open(path, \"r\") as f:\n",
    "                f = f.readlines()\n",
    "                del f[0]\n",
    "                # print(f)\n",
    "            num = len(f)\n",
    "            output.append(f\"(R:{J.replace(\"Jdis\",\"\")}, L{L}) -> {num}\")\n",
    "        except:\n",
    "            output.append(f\"(R:{J.replace(\"Jdis\",\"\")}, L{L}) -> 0\")\n",
    "\n",
    "    print(\"_\".join(output))"
   ]
  },
  {
   "cell_type": "code",
   "execution_count": null,
   "id": "36227c10",
   "metadata": {},
   "outputs": [],
   "source": []
  }
 ],
 "metadata": {
  "kernelspec": {
   "display_name": "base",
   "language": "python",
   "name": "python3"
  },
  "language_info": {
   "codemirror_mode": {
    "name": "ipython",
    "version": 3
   },
   "file_extension": ".py",
   "mimetype": "text/x-python",
   "name": "python",
   "nbconvert_exporter": "python",
   "pygments_lexer": "ipython3",
   "version": "3.12.2"
  }
 },
 "nbformat": 4,
 "nbformat_minor": 5
}
